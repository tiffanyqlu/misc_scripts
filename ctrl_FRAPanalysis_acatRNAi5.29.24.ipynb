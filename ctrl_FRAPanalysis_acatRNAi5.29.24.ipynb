{
 "cells": [
  {
   "cell_type": "markdown",
   "metadata": {},
   "source": [
    "## Information about how to set up files\n",
    "Split up images into three folders:\n",
    "- base \n",
    "- bleach \n",
    "- recovery \n",
    "\n",
    "Rename all images to e(number) and log these changes on a spreadsheet."
   ]
  },
  {
   "cell_type": "markdown",
   "metadata": {},
   "source": [
    "## Notes for this experiment: \n",
    "link to Benchling page with spreadsheet: https://benchling.com/tiffanyqlu/f/lib_yh6OKBxx-imaging/etr_3yuWv5WX-a-catenin-rnai/edit\n"
   ]
  },
  {
   "cell_type": "markdown",
   "metadata": {},
   "source": [
    "## Load packages, etc."
   ]
  },
  {
   "cell_type": "code",
   "execution_count": 1,
   "metadata": {},
   "outputs": [],
   "source": [
    "from pathlib import Path\n",
    "import pandas as pd\n",
    "import numpy as np\n",
    "import matplotlib.pyplot as plt\n",
    "from matplotlib.pyplot import savefig\n",
    "import os\n",
    "import csv\n",
    "import seaborn as sea\n",
    "from matplotlib.cm import get_cmap  # Import colormap functionality from Matplotlib\n",
    "from itertools import cycle\n",
    "from matplotlib import rc"
   ]
  },
  {
   "cell_type": "markdown",
   "metadata": {},
   "source": [
    "## Set base path for images"
   ]
  },
  {
   "cell_type": "code",
   "execution_count": 2,
   "metadata": {},
   "outputs": [],
   "source": [
    "# Set base file path\n",
    "base_path = Path('C:\\\\UChicago\\\\Munro_lab\\\\tracking\\\\analysis\\\\acatRNAi_5.29.24')"
   ]
  },
  {
   "cell_type": "markdown",
   "metadata": {},
   "source": [
    "## Import data for the baseline measurements:\n",
    "comments"
   ]
  },
  {
   "cell_type": "code",
   "execution_count": 3,
   "metadata": {},
   "outputs": [
    {
     "name": "stdout",
     "output_type": "stream",
     "text": [
      "   frame  counts  meanIntensity  totalIntensity  time (s) phase embryo\n",
      "0      1     202   48030.999998    9.702262e+06         0  base    e11\n",
      "1      2     213   46273.600177    9.856277e+06         2  base    e11\n",
      "2      3     202   46089.204526    9.310019e+06         4  base    e11\n",
      "3      4     190   44689.621039    8.491028e+06         6  base    e11\n",
      "4      5     199   46755.903002    9.304425e+06         8  base    e11\n"
     ]
    }
   ],
   "source": [
    "def readCSVs(full_path):\n",
    "    base_df = []\n",
    "\n",
    "    # Iterate through all files\n",
    "    for file_name in os.listdir(full_path):\n",
    "        if file_name.endswith('.csv'):\n",
    "            file_path = os.path.join(full_path, file_name)\n",
    "            df = pd.read_csv(file_path)\n",
    "            \n",
    "            # Add columns with time, phase, embryo\n",
    "            df['time (s)'] = [i * 2 for i in range(len(df))]  # Change this depending on the interval\n",
    "            df['phase'] = ['base'] * len(df)\n",
    "            df['embryo'] = file_name.split('_')[0]\n",
    "            \n",
    "            # Append to full df\n",
    "            base_df.append(df)\n",
    "    \n",
    "    # Concatenate dataframes\n",
    "    if base_df:\n",
    "        base_df = pd.concat(base_df, ignore_index=True)\n",
    "    else:\n",
    "        base_df = pd.DataFrame()  # return empty data frame if no CSVs found\n",
    "    \n",
    "    return base_df\n",
    "\n",
    "full_path = os.path.join(base_path, 'ctrl', 'base')\n",
    "\n",
    "# Run it\n",
    "base_df = readCSVs(full_path)\n",
    "\n",
    "print(base_df.head())"
   ]
  },
  {
   "cell_type": "markdown",
   "metadata": {},
   "source": [
    "## Import data for the bleaching measurements:"
   ]
  },
  {
   "cell_type": "code",
   "execution_count": 4,
   "metadata": {},
   "outputs": [
    {
     "name": "stdout",
     "output_type": "stream",
     "text": [
      "   frame  counts  meanIntensity  totalIntensity  time (s)   phase embryo\n",
      "0      1     182   31001.662807    5.642303e+06     10.00  bleach    e11\n",
      "1      2     182   29760.279645    5.416371e+06     10.05  bleach    e11\n",
      "2      3     168   30018.765742    5.043153e+06     10.10  bleach    e11\n",
      "3      4     173   29126.228448    5.038838e+06     10.15  bleach    e11\n",
      "4      5     172   28873.568993    4.966254e+06     10.20  bleach    e11\n"
     ]
    }
   ],
   "source": [
    "def readCSVs(full_path):\n",
    "    bleach_df = []\n",
    "\n",
    "    # Iterate through all files\n",
    "    for file_name in os.listdir(full_path):\n",
    "        if file_name.endswith('.csv'):\n",
    "            file_path = os.path.join(full_path, file_name)\n",
    "            df = pd.read_csv(file_path)\n",
    "            \n",
    "            # Add columns with time, phase, embryo\n",
    "            df['time (s)'] = [i * 0.05 for i in range(len(df))]  # Change this depending on the interval\n",
    "            df['time (s)']=df['time (s)']+ 10\n",
    "            df['phase'] = ['bleach'] * len(df)\n",
    "            df['embryo'] = file_name.split('_')[0]\n",
    "            \n",
    "            # Append to full df\n",
    "            bleach_df.append(df)\n",
    "            \n",
    "    \n",
    "    # Concatenate dataframes\n",
    "    if bleach_df:\n",
    "        bleach_df = pd.concat(bleach_df, ignore_index=True)\n",
    "    else:\n",
    "        bleach_df = pd.DataFrame()  # return empty data frame if no CSVs found\n",
    "    \n",
    "    return bleach_df\n",
    "\n",
    "full_path = os.path.join(base_path, 'ctrl', 'bleach')\n",
    "\n",
    "# Run it\n",
    "bleach_df = readCSVs(full_path)\n",
    "\n",
    "print(bleach_df.head())"
   ]
  },
  {
   "cell_type": "markdown",
   "metadata": {},
   "source": [
    "## Import data for the recovery measurements:"
   ]
  },
  {
   "cell_type": "code",
   "execution_count": 5,
   "metadata": {},
   "outputs": [
    {
     "name": "stdout",
     "output_type": "stream",
     "text": [
      "   frame  counts  meanIntensity  totalIntensity  time (s)     phase embryo\n",
      "0      1      55   13219.393002    7.270666e+05        40  recovery    e11\n",
      "1      2      95   14790.399850    1.405088e+06        41  recovery    e11\n",
      "2      3     159   15034.142017    2.390429e+06        42  recovery    e11\n",
      "3      4     163   16724.621447    2.726113e+06        43  recovery    e11\n",
      "4      5     203   16993.810033    3.449743e+06        44  recovery    e11\n"
     ]
    }
   ],
   "source": [
    "def readCSVs(full_path):\n",
    "    recovery_df = []\n",
    "\n",
    "    # Iterate through all files\n",
    "    for file_name in os.listdir(full_path):\n",
    "        if file_name.endswith('.csv'):\n",
    "            file_path = os.path.join(full_path, file_name)\n",
    "            df = pd.read_csv(file_path)\n",
    "            \n",
    "            # Add columns with time, phase, embryo\n",
    "            df['time (s)'] = [i * 1 for i in range(len(df))]  # Change this depending on the interval\n",
    "            df['time (s)']=df['time (s)']+ 40\n",
    "            df['phase'] = ['recovery'] * len(df)\n",
    "            df['embryo'] = file_name.split('_')[0]\n",
    "            \n",
    "            # Append to full df\n",
    "            recovery_df.append(df)\n",
    "    \n",
    "    # Concatenate dataframes\n",
    "    if recovery_df:\n",
    "        recovery_df = pd.concat(recovery_df, ignore_index=True)\n",
    "    else:\n",
    "        recovery_df = pd.DataFrame()  # return empty data frame if no CSVs found\n",
    "    \n",
    "    return recovery_df\n",
    "\n",
    "full_path = os.path.join(base_path, 'ctrl', 'recovery')\n",
    "\n",
    "# Run it\n",
    "recovery_df = readCSVs(full_path)\n",
    "\n",
    "print(recovery_df.head())"
   ]
  },
  {
   "cell_type": "markdown",
   "metadata": {},
   "source": [
    "## Combine the data frames"
   ]
  },
  {
   "cell_type": "code",
   "execution_count": 6,
   "metadata": {
    "scrolled": true
   },
   "outputs": [
    {
     "name": "stdout",
     "output_type": "stream",
     "text": [
      "   frame  counts  meanIntensity  totalIntensity  time (s) phase embryo\n",
      "0      1     202   48030.999998    9.702262e+06       0.0  base    e11\n",
      "1      2     213   46273.600177    9.856277e+06       2.0  base    e11\n",
      "2      3     202   46089.204526    9.310019e+06       4.0  base    e11\n",
      "3      4     190   44689.621039    8.491028e+06       6.0  base    e11\n",
      "4      5     199   46755.903002    9.304425e+06       8.0  base    e11\n"
     ]
    }
   ],
   "source": [
    "full_df = pd.concat([base_df, bleach_df, recovery_df])\n",
    "print(full_df.head())"
   ]
  },
  {
   "cell_type": "markdown",
   "metadata": {},
   "source": [
    "## Get baseline intensity measurement"
   ]
  },
  {
   "cell_type": "code",
   "execution_count": 7,
   "metadata": {},
   "outputs": [
    {
     "name": "stdout",
     "output_type": "stream",
     "text": [
      "  embryo       avg_int\n",
      "0     e1  7.240701e+06\n",
      "1    e11  9.332802e+06\n",
      "2     e2  7.870980e+06\n",
      "3     e3  6.870075e+06\n",
      "4     e7  7.739688e+06\n",
      "5     e8  2.606180e+07\n"
     ]
    }
   ],
   "source": [
    "# Calculate average total intensity for each embryo during the base phase\n",
    "avg_int = base_df.groupby('embryo')['totalIntensity'].mean().reset_index()\n",
    "avg_int.rename(columns={'totalIntensity': 'avg_int'}, inplace=True)\n",
    "print(avg_int)"
   ]
  },
  {
   "cell_type": "markdown",
   "metadata": {},
   "source": [
    "## Normalize "
   ]
  },
  {
   "cell_type": "code",
   "execution_count": 8,
   "metadata": {},
   "outputs": [
    {
     "name": "stdout",
     "output_type": "stream",
     "text": [
      "   frame  counts  meanIntensity  totalIntensity  time (s) phase embryo  \\\n",
      "0      1     202   48030.999998    9.702262e+06       0.0  base    e11   \n",
      "1      2     213   46273.600177    9.856277e+06       2.0  base    e11   \n",
      "2      3     202   46089.204526    9.310019e+06       4.0  base    e11   \n",
      "3      4     190   44689.621039    8.491028e+06       6.0  base    e11   \n",
      "4      5     199   46755.903002    9.304425e+06       8.0  base    e11   \n",
      "\n",
      "        avg_int  normIntensity  \n",
      "0  9.332802e+06       1.039587  \n",
      "1  9.332802e+06       1.056090  \n",
      "2  9.332802e+06       0.997559  \n",
      "3  9.332802e+06       0.909805  \n",
      "4  9.332802e+06       0.996959  \n"
     ]
    }
   ],
   "source": [
    "# Normalize the intensity values in the base phase\n",
    "norm_base_df = base_df.merge(avg_int, on='embryo')\n",
    "norm_base_df['normIntensity'] = norm_base_df['totalIntensity'] / norm_base_df['avg_int']\n",
    "#print(norm_bleach_df.head())\n",
    "\n",
    "# Normalize the intensity values in the bleach phase\n",
    "norm_bleach_df = bleach_df.merge(avg_int, on='embryo')\n",
    "norm_bleach_df['normIntensity'] = norm_bleach_df['totalIntensity'] / norm_bleach_df['avg_int']\n",
    "#print(norm_bleach_df.head())\n",
    "\n",
    "# Normalize the intensity values in the recovery phase\n",
    "norm_recovery_df = recovery_df.merge(avg_int, on='embryo')\n",
    "norm_recovery_df['normIntensity'] = norm_recovery_df['totalIntensity'] / norm_recovery_df['avg_int']\n",
    "#print(norm_recovery_df.head())\n",
    "\n",
    "# Combine these data frames for plotting\n",
    "full_normdf = pd.concat([norm_base_df, norm_bleach_df, norm_recovery_df])\n",
    "print(full_normdf.head())"
   ]
  },
  {
   "cell_type": "markdown",
   "metadata": {},
   "source": [
    "## Get half max recovery values"
   ]
  },
  {
   "cell_type": "code",
   "execution_count": 9,
   "metadata": {},
   "outputs": [
    {
     "name": "stdout",
     "output_type": "stream",
     "text": [
      "          halfmax embryo\n",
      "341  5.273663e+06     e8\n",
      "53   2.752207e+06    e11\n",
      "182  2.536584e+06     e2\n",
      "221  2.318710e+06     e3\n",
      "97   2.318061e+06     e1\n",
      "267  2.034771e+06     e7\n"
     ]
    },
    {
     "name": "stderr",
     "output_type": "stream",
     "text": [
      "<ipython-input-9-cb70db9a43f6>:4: SettingWithCopyWarning: \n",
      "A value is trying to be set on a copy of a slice from a DataFrame.\n",
      "Try using .loc[row_indexer,col_indexer] = value instead\n",
      "\n",
      "See the caveats in the documentation: https://pandas.pydata.org/pandas-docs/stable/user_guide/indexing.html#returning-a-view-versus-a-copy\n",
      "  max_vals[\"totalIntensity\"] = 0.5*(max_vals[\"totalIntensity\"])\n",
      "C:\\Users\\Tisiphone\\anaconda3\\lib\\site-packages\\pandas\\core\\frame.py:4438: SettingWithCopyWarning: \n",
      "A value is trying to be set on a copy of a slice from a DataFrame\n",
      "\n",
      "See the caveats in the documentation: https://pandas.pydata.org/pandas-docs/stable/user_guide/indexing.html#returning-a-view-versus-a-copy\n",
      "  return super().rename(\n"
     ]
    }
   ],
   "source": [
    "#find max recovery per embryo\n",
    "max_recovery_df = recovery_df.sort_values('totalIntensity', ascending = False).groupby('embryo').head(1)\n",
    "max_vals = max_recovery_df[[\"totalIntensity\",\"embryo\"]]\n",
    "max_vals[\"totalIntensity\"] = 0.5*(max_vals[\"totalIntensity\"])\n",
    "max_vals.rename(columns={'totalIntensity': 'halfmax'}, inplace=True)\n",
    "print(max_vals)"
   ]
  },
  {
   "cell_type": "markdown",
   "metadata": {},
   "source": [
    "## Get time to half max"
   ]
  },
  {
   "cell_type": "code",
   "execution_count": 10,
   "metadata": {},
   "outputs": [
    {
     "name": "stdout",
     "output_type": "stream",
     "text": [
      "  Embryo  IntersectionTime\n",
      "0    e11          3.036059\n",
      "1     e1          2.882356\n",
      "2     e2          4.673031\n",
      "3     e3          2.971705\n",
      "4     e7          6.037365\n",
      "5     e8          2.925191\n"
     ]
    },
    {
     "data": {
      "text/plain": [
       "3.7542844148551247"
      ]
     },
     "execution_count": 10,
     "metadata": {},
     "output_type": "execute_result"
    }
   ],
   "source": [
    "recovery_df_hm = recovery_df.merge(max_vals, on='embryo')\n",
    "results = []\n",
    "\n",
    "unique_embryos = recovery_df_hm['embryo'].unique()\n",
    "\n",
    "# Iterate through each embryo, find the first intersection time, and store the results\n",
    "for embryo in unique_embryos:\n",
    "    # Filter data for the current embryo\n",
    "    embryo_data = recovery_df_hm[recovery_df_hm['embryo'] == embryo].copy()\n",
    "    \n",
    "    target_value = embryo_data['halfmax'].iloc[0]\n",
    "    \n",
    "    # Calculate the difference between totalIntensity and the target value\n",
    "    embryo_data['Diff'] = embryo_data['totalIntensity'] - target_value\n",
    "\n",
    "    # Identify the points where the sign of the difference changes (crossing points)\n",
    "    sign_change_indices = np.where(np.diff(np.sign(embryo_data['Diff'])))[0]\n",
    "\n",
    "    # Find the first intersection time using interpolation\n",
    "    if len(sign_change_indices) > 0:\n",
    "        index = sign_change_indices[0]\n",
    "        x1, x2 = embryo_data['time (s)'].iloc[index], embryo_data['time (s)'].iloc[index + 1]\n",
    "        y1, y2 = embryo_data['totalIntensity'].iloc[index], embryo_data['totalIntensity'].iloc[index + 1]\n",
    "\n",
    "        intersection_time = x1 + (target_value - y1) * (x2 - x1) / (y2 - y1)\n",
    "\n",
    "        # Store the intersection time for the current embryo in the results list\n",
    "        results.append({'Embryo': embryo, 'IntersectionTime': intersection_time})\n",
    "    else:\n",
    "        results.append({'Embryo': embryo, 'IntersectionTime': np.nan})\n",
    "half_max_times = pd.DataFrame(results)\n",
    "\n",
    "#Fix time offset\n",
    "half_max_times['IntersectionTime']=half_max_times['IntersectionTime']-40\n",
    "half_max_times = (half_max_times).dropna()\n",
    "\n",
    "print(half_max_times)\n",
    "half_max_times['IntersectionTime'].mean()"
   ]
  },
  {
   "cell_type": "markdown",
   "metadata": {},
   "source": [
    "## Plots"
   ]
  },
  {
   "cell_type": "code",
   "execution_count": 11,
   "metadata": {
    "scrolled": false
   },
   "outputs": [
    {
     "data": {
      "image/png": "[encoded data removed]",
      "text/plain": [
       "<Figure size 432x288 with 1 Axes>"
      ]
     },
     "metadata": {
      "needs_background": "light"
     },
     "output_type": "display_data"
    }
   ],
   "source": [
    "unique_embryos = full_normdf['embryo'].unique()\n",
    "\n",
    "\n",
    "# Loop through each unique embryo and plot the corresponding data\n",
    "for embryo in unique_embryos:\n",
    "    embryo_data = full_normdf[full_normdf['embryo'] == embryo]\n",
    "    plt.plot(embryo_data['time (s)'], embryo_data['normIntensity'], label=embryo, \n",
    "             color='#1F77B4', linewidth=2)\n",
    "    \n",
    "# Calculate and plot the average normalized intensity\n",
    "average_data = full_normdf.groupby('time (s)')['normIntensity'].mean().reset_index()\n",
    "plt.plot(average_data['time (s)'], average_data['normIntensity'], label='Average', color= '#ff33d4', linewidth=5)\n",
    "\n",
    "# Add labels and legend\n",
    "plt.xlabel('time (s)')\n",
    "plt.ylabel('total intensity')\n",
    "#plt.title('ctrl')\n",
    "plt.ylim(0, 1.1)\n",
    "#plt.xlim(40,100)\n",
    "\n",
    "#Formatting\n",
    "COLOR = 'white'\n",
    "plt.rcParams['text.color'] = COLOR\n",
    "plt.rcParams['axes.labelcolor'] = COLOR\n",
    "plt.rcParams['xtick.color'] = COLOR\n",
    "plt.rcParams['ytick.color'] = COLOR\n",
    "plt.grid(False)\n",
    "plt.rcParams['axes.edgecolor'] = COLOR\n",
    "plt.rcParams['axes.spines.right'] = False\n",
    "plt.rcParams['axes.spines.top'] = False\n",
    "\n",
    "rc('font',**{'family':'sans-serif','sans-serif':['Arial']})\n",
    "import matplotlib.pyplot as plt\n",
    "\n",
    "SMALL_SIZE = 14\n",
    "MEDIUM_SIZE = 18\n",
    "BIGGER_SIZE = 18\n",
    "\n",
    "plt.rc('font', size=SMALL_SIZE)          # controls default text sizes\n",
    "plt.rc('axes', titlesize=SMALL_SIZE)     # fontsize of the axes title\n",
    "plt.rc('axes', labelsize=MEDIUM_SIZE)    # fontsize of the x and y labels\n",
    "plt.rc('xtick', labelsize=SMALL_SIZE)    # fontsize of the tick labels\n",
    "plt.rc('ytick', labelsize=SMALL_SIZE)    # fontsize of the tick labels\n",
    "plt.rc('figure', titlesize=BIGGER_SIZE)  # fontsize of the figure title\n",
    "plt.tight_layout()\n",
    "\n",
    "#Save\n",
    "savefig('ctrlFRAPacatRNAi5.29.24.svg', transparent=True,dpi=400)\n",
    "plt.show()"
   ]
  },
  {
   "cell_type": "code",
   "execution_count": 24,
   "metadata": {},
   "outputs": [
    {
     "name": "stderr",
     "output_type": "stream",
     "text": [
      "<ipython-input-24-92d993b41fb9>:66: UserWarning: This figure includes Axes that are not compatible with tight_layout, so results might be incorrect.\n",
      "  plt.tight_layout()\n"
     ]
    },
    {
     "data": {
      "image/png": "[encoded data removed]",
      "text/plain": [
       "<Figure size 360x288 with 2 Axes>"
      ]
     },
     "metadata": {
      "needs_background": "dark"
     },
     "output_type": "display_data"
    }
   ],
   "source": [
    "# Create broken axis using two subplots\n",
    "fig, (ax1, ax2) = plt.subplots(1, 2, sharey=True, figsize=(5,4), gridspec_kw={'wspace': 0.2,'width_ratios': [5, 60]}) \n",
    "## adjust fig size here!\n",
    "\n",
    "# Define time ranges\n",
    "left_range = (0, 5)\n",
    "right_range = (40, full_normdf['time (s)'].max())\n",
    "\n",
    "# Plot each embryo's data\n",
    "unique_embryos = full_normdf['embryo'].unique()\n",
    "for embryo in unique_embryos:\n",
    "    embryo_data = full_normdf[full_normdf['embryo'] == embryo]\n",
    "    ax1.plot(embryo_data['time (s)'], embryo_data['normIntensity'], color='#1F77B4', linewidth=2)\n",
    "    ax2.plot(embryo_data['time (s)'], embryo_data['normIntensity'], color='#1F77B4', linewidth=2)\n",
    "\n",
    "# Plot average\n",
    "average_data = full_normdf.groupby('time (s)')['normIntensity'].mean().reset_index()\n",
    "ax1.plot(average_data['time (s)'], average_data['normIntensity'], label='Average', color='#ff33d4', linewidth=5)\n",
    "ax2.plot(average_data['time (s)'], average_data['normIntensity'], label='Average', color='#ff33d4', linewidth=5)\n",
    "\n",
    "# Set limits to show the broken axis\n",
    "ax1.set_xlim(*left_range)\n",
    "ax2.set_xlim(*right_range)\n",
    "ax1.set_ylim(0, 1.1)\n",
    "\n",
    "# Hide spines between ax1 and ax2\n",
    "ax1.spines['right'].set_visible(False)\n",
    "ax2.spines['left'].set_visible(False)\n",
    "ax1.yaxis.tick_left()\n",
    "\n",
    "\n",
    "# Diagonal break markers\n",
    "\n",
    "#d = .015\n",
    "#kwargs = dict(transform=ax1.transAxes, color=COLOR, clip_on=False)\n",
    "#ax1.plot((1 - d, 1 + d), (-d, +d), **kwargs)\n",
    "#ax1.plot((1 - d, 1 + d), (1 - d, 1 + d), **kwargs)\n",
    "\n",
    "#kwargs.update(transform=ax2.transAxes)\n",
    "#ax2.plot((-d, +d), (-d, +d), **kwargs)\n",
    "#ax2.plot((-d, +d), (1 - d, 1 + d), **kwargs)\n",
    "\n",
    "# Formatting\n",
    "COLOR = 'white'\n",
    "fig.text(0.5, 0.04, 'time (s)', ha='center', color=COLOR)\n",
    "ax1.set_ylabel('total intensity', color=COLOR)\n",
    "plt.rcParams['text.color'] = COLOR\n",
    "plt.rcParams['axes.labelcolor'] = COLOR\n",
    "plt.rcParams['xtick.color'] = COLOR\n",
    "plt.rcParams['ytick.color'] = COLOR\n",
    "plt.grid(False)\n",
    "plt.rcParams['axes.edgecolor'] = COLOR\n",
    "plt.rcParams['axes.spines.right'] = False\n",
    "plt.rcParams['axes.spines.top'] = False\n",
    "\n",
    "rc('font',**{'family':'sans-serif','sans-serif':['Arial']})\n",
    "SMALL_SIZE = 14\n",
    "MEDIUM_SIZE = 18\n",
    "BIGGER_SIZE = 18\n",
    "plt.rc('font', size=SMALL_SIZE)\n",
    "plt.rc('axes', titlesize=SMALL_SIZE)\n",
    "plt.rc('axes', labelsize=MEDIUM_SIZE)\n",
    "plt.rc('xtick', labelsize=SMALL_SIZE)\n",
    "plt.rc('ytick', labelsize=SMALL_SIZE)\n",
    "plt.rc('figure', titlesize=BIGGER_SIZE)\n",
    "plt.tight_layout()\n",
    "\n",
    "plt.savefig('C:\\\\UChicago\\\\Munro_lab\\\\tracking\\\\analysis\\\\acatRNAi_5.29.24\\\\FRAPbrokenaxes.svg', transparent=True,dpi=400)\n",
    "plt.show()"
   ]
  },
  {
   "cell_type": "code",
   "execution_count": 14,
   "metadata": {},
   "outputs": [
    {
     "name": "stderr",
     "output_type": "stream",
     "text": [
      "C:\\Users\\Tisiphone\\anaconda3\\lib\\site-packages\\seaborn\\axisgrid.py:118: UserWarning: Tight layout not applied. tight_layout cannot make axes height small enough to accommodate all axes decorations\n",
      "  self._figure.tight_layout(*args, **kwargs)\n",
      "C:\\Users\\Tisiphone\\anaconda3\\lib\\site-packages\\seaborn\\axisgrid.py:118: UserWarning: Tight layout not applied. tight_layout cannot make axes height small enough to accommodate all axes decorations\n",
      "  self._figure.tight_layout(*args, **kwargs)\n"
     ]
    },
    {
     "data": {
      "text/plain": [
       "<seaborn.axisgrid.FacetGrid at 0x1e8cd957e20>"
      ]
     },
     "execution_count": 14,
     "metadata": {},
     "output_type": "execute_result"
    },
    {
     "data": {
      "image/png": "[encoded data removed]",
      "text/plain": [
       "<Figure size 540x360 with 10 Axes>"
      ]
     },
     "metadata": {},
     "output_type": "display_data"
    }
   ],
   "source": []
  },
  {
   "cell_type": "code",
   "execution_count": 12,
   "metadata": {
    "scrolled": false
   },
   "outputs": [
    {
     "data": {
      "image/png": "[encoded data removed]",
      "text/plain": [
       "<Figure size 432x288 with 1 Axes>"
      ]
     },
     "metadata": {
      "needs_background": "dark"
     },
     "output_type": "display_data"
    }
   ],
   "source": [
    "boxprops = dict(color='white',linewidth=2)\n",
    "whiskerprops = dict(color='white',linewidth=2)\n",
    "capprops = dict(color='white',linewidth=2)\n",
    "medianprops = dict(color='#78eafc',linewidth=2)\n",
    "plt.boxplot(half_max_times['IntersectionTime'], boxprops=boxprops, whiskerprops=whiskerprops, medianprops=medianprops,\n",
    "           capprops=capprops)\n",
    "\n",
    "plt.ylabel('time to half max (s)')\n",
    "plt.ylim(0,8)\n",
    "\n",
    "#Formatting\n",
    "COLOR = 'white'\n",
    "plt.rcParams['text.color'] = COLOR\n",
    "plt.rcParams['axes.labelcolor'] = COLOR\n",
    "plt.rcParams['xtick.color'] = COLOR\n",
    "plt.rcParams['ytick.color'] = COLOR\n",
    "plt.grid(False)\n",
    "plt.rcParams['axes.edgecolor'] = COLOR\n",
    "plt.rcParams['axes.spines.right'] = False\n",
    "plt.rcParams['axes.spines.top'] = False\n",
    "\n",
    "rc('font',**{'family':'sans-serif','sans-serif':['Arial']})\n",
    "import matplotlib.pyplot as plt\n",
    "\n",
    "\n",
    "SMALL_SIZE = 14\n",
    "MEDIUM_SIZE = 18\n",
    "BIGGER_SIZE = 18\n",
    "\n",
    "plt.rc('font', size=SMALL_SIZE)          # controls default text sizes\n",
    "plt.rc('axes', titlesize=SMALL_SIZE)     # fontsize of the axes title\n",
    "plt.rc('axes', labelsize=MEDIUM_SIZE)    # fontsize of the x and y labels\n",
    "plt.rc('xtick', labelsize=SMALL_SIZE)    # fontsize of the tick labels\n",
    "plt.rc('ytick', labelsize=SMALL_SIZE)    # fontsize of the tick labels\n",
    "plt.rc('figure', titlesize=BIGGER_SIZE)  # fontsize of the figure title\n",
    "plt.tight_layout()\n",
    "\n",
    "savefig('ctrlhalfmax.svg', transparent=True,dpi=400)\n",
    "plt.show()"
   ]
  },
  {
   "cell_type": "code",
   "execution_count": 28,
   "metadata": {},
   "outputs": [
    {
     "data": {
      "image/png": "[encoded data removed]",
      "text/plain": [
       "<Figure size 180x288 with 1 Axes>"
      ]
     },
     "metadata": {
      "needs_background": "dark"
     },
     "output_type": "display_data"
    }
   ],
   "source": [
    "fig, ax = plt.subplots(figsize=(2.5,4))\n",
    "p=sea.swarmplot(y=\"IntersectionTime\", data=half_max_times, s=8)\n",
    "\n",
    "\n",
    "\n",
    "plt.ylim(0,7)\n",
    "sea.boxplot(showmeans=True,\n",
    "            meanprops={\"marker\":\"s\",\"markerfacecolor\":\"#ff33d4\", \"markeredgecolor\":\"#ff33d4\",\"markersize\": \"10\"},\n",
    "            medianprops={'visible': False},\n",
    "            whiskerprops={'visible': False},\n",
    "            zorder=10,\n",
    "            y=\"IntersectionTime\",\n",
    "            data=half_max_times,\n",
    "            showfliers=False,\n",
    "            showbox=False,\n",
    "            showcaps=False,\n",
    "            ax=p)\n",
    "plt.ylabel(\"time to half max (s)\")\n",
    "savefig('C:\\\\UChicago\\\\Munro_lab\\\\tracking\\\\analysis\\\\acatRNAi_5.29.24\\\\poster_ctrlhalfmaxscatter.svg', transparent=True,dpi=400)\n",
    "plt.tight_layout()\n",
    "plt.rc('font', size=SMALL_SIZE)          # controls default text sizes\n",
    "plt.rc('axes', titlesize=SMALL_SIZE)     # fontsize of the axes title\n",
    "plt.rc('axes', labelsize=MEDIUM_SIZE)    # fontsize of the x and y labels\n",
    "plt.rc('xtick', labelsize=SMALL_SIZE)    # fontsize of the tick labels\n",
    "plt.rc('ytick', labelsize=SMALL_SIZE)    # fontsize of the tick labels\n",
    "plt.rc('figure', titlesize=BIGGER_SIZE)  # fontsize of the figure title\n",
    "plt.show()"
   ]
  },
  {
   "cell_type": "code",
   "execution_count": null,
   "metadata": {},
   "outputs": [],
   "source": []
  }
 ],
 "metadata": {
  "kernelspec": {
   "display_name": "Python 3",
   "language": "python",
   "name": "python3"
  },
  "language_info": {
   "codemirror_mode": {
    "name": "ipython",
    "version": 3
   },
   "file_extension": ".py",
   "mimetype": "text/x-python",
   "name": "python",
   "nbconvert_exporter": "python",
   "pygments_lexer": "ipython3",
   "version": "3.8.3"
  }
 },
 "nbformat": 4,
 "nbformat_minor": 4
}
